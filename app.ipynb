{
  "nbformat": 4,
  "nbformat_minor": 0,
  "metadata": {
    "colab": {
      "provenance": [],
      "authorship_tag": "ABX9TyNKEw4kGv7uvBzSbaxpXW8s",
      "include_colab_link": true
    },
    "kernelspec": {
      "name": "python3",
      "display_name": "Python 3"
    },
    "language_info": {
      "name": "python"
    }
  },
  "cells": [
    {
      "cell_type": "markdown",
      "metadata": {
        "id": "view-in-github",
        "colab_type": "text"
      },
      "source": [
        "<a href=\"https://colab.research.google.com/github/Timecapp/XAI_Capstone/blob/main/app.ipynb\" target=\"_parent\"><img src=\"https://colab.research.google.com/assets/colab-badge.svg\" alt=\"Open In Colab\"/></a>"
      ]
    },
    {
      "cell_type": "code",
      "execution_count": null,
      "metadata": {
        "id": "48r85LHiMfH0"
      },
      "outputs": [],
      "source": [
        "import gradio as gr\n",
        "from transformers import pipeline\n",
        "\n",
        "pipeline = pipeline(task=\"image-classification\", model=\"julien-c/hotdog-not-hotdog\")\n",
        "\n",
        "def predict(image):\n",
        "    predictions = pipeline(image)\n",
        "    return {p[\"label\"]: p[\"score\"] for p in predictions}\n",
        "\n",
        "gr.Interface(\n",
        "    predict,\n",
        "    inputs=gr.inputs.Image(label=\"Upload hot dog candidate\", type=\"filepath\"),\n",
        "    outputs=gr.outputs.Label(num_top_classes=2),\n",
        "    title=\"Hot Dog? Or Not?\",\n",
        ").launch()"
      ]
    }
  ]
}